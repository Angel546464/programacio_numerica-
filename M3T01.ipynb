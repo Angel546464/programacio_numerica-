{
 "cells": [
  {
   "cell_type": "markdown",
   "id": "d30903d5",
   "metadata": {},
   "source": [
    "# EXERCICI 1\n",
    "Carregar “data” i \"target\" del conjunt de dades, i visualitza els 10 primers registres de cadascun."
   ]
  },
  {
   "cell_type": "code",
   "execution_count": 17,
   "id": "219d8f84",
   "metadata": {},
   "outputs": [
    {
     "name": "stdout",
     "output_type": "stream",
     "text": [
      "Primeres 10 files de 'data':\n",
      "[[5.1 3.5 1.4 0.2]\n",
      " [4.9 3.  1.4 0.2]\n",
      " [4.7 3.2 1.3 0.2]\n",
      " [4.6 3.1 1.5 0.2]\n",
      " [5.  3.6 1.4 0.2]\n",
      " [5.4 3.9 1.7 0.4]\n",
      " [4.6 3.4 1.4 0.3]\n",
      " [5.  3.4 1.5 0.2]\n",
      " [4.4 2.9 1.4 0.2]\n",
      " [4.9 3.1 1.5 0.1]]\n",
      "\n",
      " Primeres 10 files de 'target':\n",
      "[0 0 0 0 0 0 0 0 0 0]\n"
     ]
    }
   ],
   "source": [
    "import numpy as np\n",
    "from sklearn.datasets import load_iris\n",
    "\n",
    "iris = load_iris()\n",
    "\n",
    "data = iris.data\n",
    "target = iris.target\n",
    "\n",
    "print(\"Primeres 10 files de 'data':\")\n",
    "print(data[:10])\n",
    "\n",
    "print(\"\\n Primeres 10 files de 'target':\")\n",
    "print(target[:10])"
   ]
  },
  {
   "cell_type": "markdown",
   "id": "dd5247c2",
   "metadata": {},
   "source": [
    "# EXERCICI 2\n",
    "Concatena “data” i “target” en un nou array. Mostra els 5 primers registres."
   ]
  },
  {
   "cell_type": "code",
   "execution_count": 9,
   "id": "b17dc3e1",
   "metadata": {},
   "outputs": [
    {
     "name": "stdout",
     "output_type": "stream",
     "text": [
      "Primers 5 registres:\n",
      "[[5.1 3.5 1.4 0.2 0. ]\n",
      " [4.9 3.  1.4 0.2 0. ]\n",
      " [4.7 3.2 1.3 0.2 0. ]\n",
      " [4.6 3.1 1.5 0.2 0. ]\n",
      " [5.  3.6 1.4 0.2 0. ]]\n"
     ]
    }
   ],
   "source": [
    "concatenated_array = np.concatenate((data, target.reshape(-1,1)),axis=1)\n",
    "print(\"Primers 5 registres:\")\n",
    "print(concatenated_array[:5])"
   ]
  },
  {
   "cell_type": "markdown",
   "id": "a0220fcb",
   "metadata": {},
   "source": [
    "# EXERCICI 3\n",
    "Calcula la mitjana i desviació estàndard de la longitud del sèpal (\"sepal length (cm)\") i la longitud del pètal (\"petal length (cm)\"). Mostra els resultats amb dos decimals."
   ]
  },
  {
   "cell_type": "code",
   "execution_count": 10,
   "id": "9b714360",
   "metadata": {},
   "outputs": [
    {
     "name": "stdout",
     "output_type": "stream",
     "text": [
      "Índex 0: sepal length (cm)\n",
      "Índex 1: sepal width (cm)\n",
      "Índex 2: petal length (cm)\n",
      "Índex 3: petal width (cm)\n"
     ]
    }
   ],
   "source": [
    "for i, feature_name in enumerate(iris.feature_names):\n",
    "    print(f\"Índex {i}: {feature_name}\")"
   ]
  },
  {
   "cell_type": "code",
   "execution_count": 11,
   "id": "70f60402",
   "metadata": {},
   "outputs": [
    {
     "name": "stdout",
     "output_type": "stream",
     "text": [
      "Sepal length (cm):\n",
      "Mediana: 5.8\n",
      "Desviació Estàndar: 0.83\n",
      "\n",
      "Petal length (cm):\n",
      "Mediana: 4.35\n",
      "Desviación Estàndar: 1.76\n"
     ]
    }
   ],
   "source": [
    "sepal_length = data[:, 0]\n",
    "petal_length = data[:, 2]\n",
    "\n",
    "mediana_sepal_length = round (np.median(sepal_length), 2)\n",
    "desviacion_sepal_length = round (np.std(sepal_length), 2)\n",
    "\n",
    "mediana_petal_length = round (np.median(petal_length), 2)\n",
    "desviacion_petal_length = round (np.std(petal_length), 2)\n",
    "\n",
    "print(\"Sepal length (cm):\")\n",
    "print(\"Mediana:\", mediana_sepal_length)\n",
    "print(\"Desviació Estàndar:\", desviacion_sepal_length)\n",
    "\n",
    "print(\"\\nPetal length (cm):\")\n",
    "print(\"Mediana:\", mediana_petal_length)\n",
    "print(\"Desviación Estàndar:\", desviacion_petal_length)"
   ]
  },
  {
   "cell_type": "markdown",
   "id": "8c9c1f76",
   "metadata": {},
   "source": [
    "# EXERCICI 4\n",
    "Selecciona una mostra aleatòria de 20 registres del conjunt que has obtingut en l'exercici anterior."
   ]
  },
  {
   "cell_type": "code",
   "execution_count": 12,
   "id": "6d2f95ab",
   "metadata": {
    "scrolled": true
   },
   "outputs": [
    {
     "name": "stdout",
     "output_type": "stream",
     "text": [
      "Mostra aleatòria de 20 registres:\n",
      "[[6.  3.4 4.5 1.6 1. ]\n",
      " [6.8 3.  5.5 2.1 2. ]\n",
      " [4.9 3.1 1.5 0.1 0. ]\n",
      " [6.4 3.2 4.5 1.5 1. ]\n",
      " [5.  3.  1.6 0.2 0. ]\n",
      " [5.7 4.4 1.5 0.4 0. ]\n",
      " [5.4 3.9 1.3 0.4 0. ]\n",
      " [5.1 3.8 1.9 0.4 0. ]\n",
      " [7.2 3.2 6.  1.8 2. ]\n",
      " [5.  3.3 1.4 0.2 0. ]\n",
      " [5.1 3.5 1.4 0.3 0. ]\n",
      " [5.  3.5 1.6 0.6 0. ]\n",
      " [5.7 2.5 5.  2.  2. ]\n",
      " [6.1 3.  4.6 1.4 1. ]\n",
      " [5.5 2.5 4.  1.3 1. ]\n",
      " [7.2 3.  5.8 1.6 2. ]\n",
      " [6.3 2.9 5.6 1.8 2. ]\n",
      " [6.8 3.2 5.9 2.3 2. ]\n",
      " [6.7 3.1 4.4 1.4 1. ]\n",
      " [6.8 2.8 4.8 1.4 1. ]]\n"
     ]
    }
   ],
   "source": [
    "muestra_aleatoria = np.random.choice(concatenated_array.shape[0], size=20, replace=False)\n",
    "muestra_aleatoria_data = concatenated_array[muestra_aleatoria, :]\n",
    "\n",
    "print(\"Mostra aleatòria de 20 registres:\")\n",
    "print(muestra_aleatoria_data)"
   ]
  },
  {
   "cell_type": "markdown",
   "id": "afdaa812",
   "metadata": {},
   "source": [
    "# EXERCICI 5\n",
    "Crea una matriu que mostri: \n",
    "\n",
    "• La mitjana de cada característica per espècie. \n",
    "\n",
    "• La desviació estàndard de cada característica per espècie."
   ]
  },
  {
   "cell_type": "code",
   "execution_count": 13,
   "id": "7ab162b0",
   "metadata": {},
   "outputs": [
    {
     "data": {
      "text/plain": [
       "array(['setosa', 'versicolor', 'virginica'], dtype='<U10')"
      ]
     },
     "execution_count": 13,
     "metadata": {},
     "output_type": "execute_result"
    }
   ],
   "source": [
    "iris.target_names"
   ]
  },
  {
   "cell_type": "code",
   "execution_count": 14,
   "id": "b25b3586",
   "metadata": {},
   "outputs": [
    {
     "name": "stdout",
     "output_type": "stream",
     "text": [
      "Mitjana Setosa: [5.  3.4 1.5 0.2]\n",
      "Desviació Estàndar Setosa: [0.34894699 0.37525458 0.17191859 0.10432641]\n",
      "\n",
      "Mitjana Versicolor: [5.9  2.8  4.35 1.3 ]\n",
      "Desviació Estàndar Versicolor: [0.51098337 0.31064449 0.46518813 0.19576517]\n",
      "\n",
      "Mitjana Virginica: [6.5  3.   5.55 2.  ]\n",
      "Desviació Estànda Virginica: [0.62948868 0.31925538 0.54634787 0.27188968]\n"
     ]
    }
   ],
   "source": [
    "setosa_data = concatenated_array[concatenated_array[:, -1] == 0, :-1]\n",
    "versicolor_data = concatenated_array[concatenated_array[:, -1] == 1, :-1]\n",
    "virginica_data = concatenated_array[concatenated_array[:, -1] == 2, :-1]\n",
    "\n",
    "mediana_setosa = np.median(setosa_data, axis=0)\n",
    "std_setosa = np.std(setosa_data, axis=0)\n",
    "\n",
    "mediana_versicolor = np.median(versicolor_data, axis=0)\n",
    "std_versicolor = np.std(versicolor_data, axis=0)\n",
    "\n",
    "mediana_virginica = np.median(virginica_data, axis=0)\n",
    "std_virginica = np.std(virginica_data, axis=0)\n",
    "\n",
    "print(\"Mitjana Setosa:\", mediana_setosa)\n",
    "print(\"Desviació Estàndar Setosa:\", std_setosa)\n",
    "\n",
    "print(\"\\nMitjana Versicolor:\", mediana_versicolor)\n",
    "print(\"Desviació Estàndar Versicolor:\", std_versicolor)\n",
    "\n",
    "print(\"\\nMitjana Virginica:\", mediana_virginica)\n",
    "print(\"Desviació Estànda Virginica:\", std_virginica)"
   ]
  },
  {
   "cell_type": "markdown",
   "id": "10768004",
   "metadata": {},
   "source": [
    "# EXERCICI 6\n",
    "• Calcula la quantitat de mostres per espècie.\n",
    "\n",
    "• Troba l'espècie amb el valor màxim mitjana de la variable \"sepal length (cm)\""
   ]
  },
  {
   "cell_type": "code",
   "execution_count": 19,
   "id": "dcedb8a1",
   "metadata": {},
   "outputs": [
    {
     "name": "stdout",
     "output_type": "stream",
     "text": [
      "Quantitat de mostres per espècie:\n",
      "\n",
      "Setosa: 50 mostres\n",
      "Versicolor: 50 mostres\n",
      "Virginica: 50 mostres\n",
      "\n",
      "Espècie amb el valor màxim mitjana en sepal length (cm): Virginica\n",
      "Mitjana màxima en sepal length (cm): 6.5\n"
     ]
    }
   ],
   "source": [
    "mapeo_especies = {0: 'Setosa', 1: 'Versicolor', 2: 'Virginica'}\n",
    "\n",
    "mediana_por_especie = np.zeros(3)\n",
    "\n",
    "for especie in range(3):\n",
    "    mediana_por_especie[especie] = np.median(concatenated_array[concatenated_array[:, -1] == especie, 0])\n",
    "\n",
    "muestras_por_especie = np.bincount(concatenated_array[:, -1].astype(int))\n",
    "\n",
    "especie_con_max_mediana = np.argmax(mediana_por_especie)\n",
    "\n",
    "print(\"Quantitat de mostres per espècie:\\n\")\n",
    "for especie, cantidad in enumerate(muestras_por_especie):\n",
    "    nombre_especie = mapeo_especies.get(especie, f'Espècie {especie}')\n",
    "    print(f\"{nombre_especie}: {cantidad} mostres\")\n",
    "\n",
    "nombre_especie_max_mediana = mapeo_especies.get(especie_con_max_mediana)\n",
    "print(\"\\nEspècie amb el valor màxim mitjana en sepal length (cm):\", nombre_especie_max_mediana)\n",
    "print(\"Mitjana màxima en sepal length (cm):\", mediana_por_especie[especie_con_max_mediana])"
   ]
  },
  {
   "cell_type": "markdown",
   "id": "cd9299a3",
   "metadata": {},
   "source": [
    "# EXERCICI 7\n",
    "• Calcula la matriu de correlació entre les variables.\n",
    "\n",
    "• Filtra els valors majors a la mitjana de la longitud dels pètals i mostra-ho. \n",
    "\n",
    "• Troba la mostra amb els pètals més grans."
   ]
  },
  {
   "cell_type": "code",
   "execution_count": 20,
   "id": "0087d903",
   "metadata": {},
   "outputs": [
    {
     "name": "stdout",
     "output_type": "stream",
     "text": [
      "Matriu de correlació:\n",
      "\n",
      "[[ 1.         -0.11756978  0.87175378  0.81794113  0.78256123]\n",
      " [-0.11756978  1.         -0.4284401  -0.36612593 -0.42665756]\n",
      " [ 0.87175378 -0.4284401   1.          0.96286543  0.9490347 ]\n",
      " [ 0.81794113 -0.36612593  0.96286543  1.          0.95654733]\n",
      " [ 0.78256123 -0.42665756  0.9490347   0.95654733  1.        ]]\n"
     ]
    }
   ],
   "source": [
    "matriz_correlacion = np.corrcoef(concatenated_array, rowvar=False)\n",
    "\n",
    "print(\"Matriu de correlació:\\n\")\n",
    "print(matriz_correlacion)"
   ]
  },
  {
   "cell_type": "code",
   "execution_count": 22,
   "id": "02262fae",
   "metadata": {},
   "outputs": [
    {
     "name": "stdout",
     "output_type": "stream",
     "text": [
      "Els valors mes grans que la mitjana de la longitud del pètal son:\n",
      "\n",
      "[[7.  3.2 4.7 1.4 1. ]\n",
      " [6.4 3.2 4.5 1.5 1. ]\n",
      " [6.9 3.1 4.9 1.5 1. ]\n",
      " [6.5 2.8 4.6 1.5 1. ]\n",
      " [6.3 3.3 4.7 1.6 1. ]\n",
      " [6.6 2.9 4.6 1.3 1. ]\n",
      " [5.9 3.  4.2 1.5 1. ]\n",
      " [6.  2.2 4.  1.  1. ]\n",
      " [6.1 2.9 4.7 1.4 1. ]\n",
      " [6.7 3.1 4.4 1.4 1. ]\n",
      " [6.2 2.2 4.5 1.5 1. ]\n",
      " [5.9 3.2 4.8 1.8 1. ]\n",
      " [6.1 2.8 4.  1.3 1. ]\n",
      " [6.3 2.5 4.9 1.5 1. ]\n",
      " [6.1 2.8 4.7 1.2 1. ]\n",
      " [6.4 2.9 4.3 1.3 1. ]\n",
      " [6.6 3.  4.4 1.4 1. ]\n",
      " [6.8 2.8 4.8 1.4 1. ]\n",
      " [6.7 3.  5.  1.7 1. ]\n",
      " [6.  2.9 4.5 1.5 1. ]\n",
      " [6.  2.7 5.1 1.6 1. ]\n",
      " [6.  3.4 4.5 1.6 1. ]\n",
      " [6.7 3.1 4.7 1.5 1. ]\n",
      " [6.3 2.3 4.4 1.3 1. ]\n",
      " [6.1 3.  4.6 1.4 1. ]\n",
      " [6.2 2.9 4.3 1.3 1. ]\n",
      " [6.3 3.3 6.  2.5 2. ]\n",
      " [7.1 3.  5.9 2.1 2. ]\n",
      " [6.3 2.9 5.6 1.8 2. ]\n",
      " [6.5 3.  5.8 2.2 2. ]\n",
      " [7.6 3.  6.6 2.1 2. ]\n",
      " [7.3 2.9 6.3 1.8 2. ]\n",
      " [6.7 2.5 5.8 1.8 2. ]\n",
      " [7.2 3.6 6.1 2.5 2. ]\n",
      " [6.5 3.2 5.1 2.  2. ]\n",
      " [6.4 2.7 5.3 1.9 2. ]\n",
      " [6.8 3.  5.5 2.1 2. ]\n",
      " [6.4 3.2 5.3 2.3 2. ]\n",
      " [6.5 3.  5.5 1.8 2. ]\n",
      " [7.7 3.8 6.7 2.2 2. ]\n",
      " [7.7 2.6 6.9 2.3 2. ]\n",
      " [6.  2.2 5.  1.5 2. ]\n",
      " [6.9 3.2 5.7 2.3 2. ]\n",
      " [7.7 2.8 6.7 2.  2. ]\n",
      " [6.3 2.7 4.9 1.8 2. ]\n",
      " [6.7 3.3 5.7 2.1 2. ]\n",
      " [7.2 3.2 6.  1.8 2. ]\n",
      " [6.2 2.8 4.8 1.8 2. ]\n",
      " [6.1 3.  4.9 1.8 2. ]\n",
      " [6.4 2.8 5.6 2.1 2. ]\n",
      " [7.2 3.  5.8 1.6 2. ]\n",
      " [7.4 2.8 6.1 1.9 2. ]\n",
      " [7.9 3.8 6.4 2.  2. ]\n",
      " [6.4 2.8 5.6 2.2 2. ]\n",
      " [6.3 2.8 5.1 1.5 2. ]\n",
      " [6.1 2.6 5.6 1.4 2. ]\n",
      " [7.7 3.  6.1 2.3 2. ]\n",
      " [6.3 3.4 5.6 2.4 2. ]\n",
      " [6.4 3.1 5.5 1.8 2. ]\n",
      " [6.  3.  4.8 1.8 2. ]\n",
      " [6.9 3.1 5.4 2.1 2. ]\n",
      " [6.7 3.1 5.6 2.4 2. ]\n",
      " [6.9 3.1 5.1 2.3 2. ]\n",
      " [6.8 3.2 5.9 2.3 2. ]\n",
      " [6.7 3.3 5.7 2.5 2. ]\n",
      " [6.7 3.  5.2 2.3 2. ]\n",
      " [6.3 2.5 5.  1.9 2. ]\n",
      " [6.5 3.  5.2 2.  2. ]\n",
      " [6.2 3.4 5.4 2.3 2. ]\n",
      " [5.9 3.  5.1 1.8 2. ]]\n"
     ]
    }
   ],
   "source": [
    "petal_length = np.median(concatenated_array[:, 0])\n",
    "\n",
    "valors_majors_mitjana = concatenated_array[concatenated_array[:, 0] > petal_length]\n",
    "\n",
    "print(\"Els valors mes grans que la mitjana de la longitud del pètal son:\\n\")\n",
    "print(valors_majors_mitjana)"
   ]
  },
  {
   "cell_type": "code",
   "execution_count": 23,
   "id": "06defdd5",
   "metadata": {},
   "outputs": [
    {
     "name": "stdout",
     "output_type": "stream",
     "text": [
      "Índex de la mostra amb el pètal mes gran: 118\n",
      "\n",
      "Els valors de les variables per a la mostra que té el pètal més gran són: [7.7 2.6 6.9 2.3 2. ]\n"
     ]
    }
   ],
   "source": [
    "tamany_petal = concatenated_array[:, 2] + concatenated_array[:, 3]\n",
    "\n",
    "max_tamany_petal = np.argmax(tamany_petal)\n",
    "\n",
    "index_mostra_max_tamany_petal = max_tamany_petal\n",
    "valors_mostra_max_tamany_petal = concatenated_array[max_tamany_petal, :]\n",
    "\n",
    "print(\"Índex de la mostra amb el pètal mes gran:\", index_mostra_max_tamany_petal)\n",
    "print(\"\\nEls valors de les variables per a la mostra que té el pètal més gran són:\", valors_mostra_max_tamany_petal)"
   ]
  },
  {
   "cell_type": "markdown",
   "id": "ac1bbebd",
   "metadata": {},
   "source": [
    "# EXERCICI 8\n",
    "Troba l'espècie amb la diferència més gran entre la longitud mitjana de sèpals i pètals."
   ]
  },
  {
   "cell_type": "code",
   "execution_count": 25,
   "id": "40576610",
   "metadata": {},
   "outputs": [
    {
     "name": "stdout",
     "output_type": "stream",
     "text": [
      "Espècie amb la diferència més gran entre la longitud mitjana de sèpals i pètals: Setosa\n",
      "Diferència de mitjanas: 3.544\n"
     ]
    }
   ],
   "source": [
    "media_longitud_petal_por_especie = [np.mean(concatenated_array[concatenated_array[:, -1] == especie, 2]) for especie in range(3)]\n",
    "media_longitud_sepalo_por_especie = [np.mean(concatenated_array[concatenated_array[:, -1] == especie, 0]) for especie in range(3)]\n",
    "\n",
    "diferencia_medias_por_especie = np.abs(np.array(media_longitud_petal_por_especie) - np.array(media_longitud_sepalo_por_especie))\n",
    "\n",
    "especie_max_diferencia = np.argmax(diferencia_medias_por_especie)\n",
    "\n",
    "nombre_especie_max_diferencia = mapeo_especies.get(especie_max_diferencia)\n",
    "\n",
    "print(f\"Espècie amb la diferència més gran entre la longitud mitjana de sèpals i pètals: {nombre_especie_max_diferencia}\")\n",
    "print(f\"Diferència de mitjanas: {diferencia_medias_por_especie[especie_max_diferencia]}\")\n"
   ]
  }
 ],
 "metadata": {
  "kernelspec": {
   "display_name": "Python 3 (ipykernel)",
   "language": "python",
   "name": "python3"
  },
  "language_info": {
   "codemirror_mode": {
    "name": "ipython",
    "version": 3
   },
   "file_extension": ".py",
   "mimetype": "text/x-python",
   "name": "python",
   "nbconvert_exporter": "python",
   "pygments_lexer": "ipython3",
   "version": "3.11.3"
  }
 },
 "nbformat": 4,
 "nbformat_minor": 5
}
